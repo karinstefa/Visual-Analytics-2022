{
 "cells": [
  {
   "cell_type": "code",
   "execution_count": 59,
   "metadata": {},
   "outputs": [],
   "source": [
    "import os\n",
    "import rasterio\n",
    "import pandas as pd\n",
    "import geopandas as gp\n",
    "from matplotlib import pyplot as plt\n",
    "from functools import reduce\n",
    "from geopandas import GeoDataFrame\n",
    "from shapely.geometry import Polygon, Point\n",
    "from rasterio.features import shapes"
   ]
  },
  {
   "cell_type": "markdown",
   "metadata": {},
   "source": [
    "## Funciones de procesamiento de datos"
   ]
  },
  {
   "cell_type": "code",
   "execution_count": 2,
   "metadata": {},
   "outputs": [],
   "source": [
    "def get_date(tiff_path):\n",
    "    tiff_name = tiff_path.split('/')[-1]\n",
    "    date = '-'.join(tiff_name.split('.')[:-1])\n",
    "    return date"
   ]
  },
  {
   "cell_type": "code",
   "execution_count": 3,
   "metadata": {},
   "outputs": [],
   "source": [
    "def open_tiff(src, date, mask = None):\n",
    "    results = []\n",
    "    for s, v in shapes(src.read(), mask=mask, transform=src.meta['transform']):\n",
    "        data = {\n",
    "            'properties': {date: v}, \n",
    "            'geometry': Polygon(s['coordinates'][0]).centroid\n",
    "        }\n",
    "        results.append(data)\n",
    "    return results"
   ]
  },
  {
   "cell_type": "code",
   "execution_count": 4,
   "metadata": {},
   "outputs": [],
   "source": [
    "def get_raster(path):\n",
    "    src = rasterio.open(path)\n",
    "    crs = src.read_crs()\n",
    "    date = get_date(path)\n",
    "    tiff = open_tiff(src, date)\n",
    "    src.close()\n",
    "    raster = GeoDataFrame.from_features(tiff, crs=crs)\n",
    "    raster['geometry'] = raster['geometry'].to_crs(crs)\n",
    "    return raster"
   ]
  },
  {
   "cell_type": "markdown",
   "metadata": {},
   "source": [
    "# Precipitaciones"
   ]
  },
  {
   "cell_type": "code",
   "execution_count": 138,
   "metadata": {},
   "outputs": [],
   "source": [
    "folder = '../Datos/CHIRPS/'\n",
    "rasters = []\n",
    "for file in os.listdir(folder):\n",
    "    if file.endswith('.tif'):\n",
    "        path = os.path.join(folder, file)\n",
    "        raster = get_raster(path)\n",
    "        rasters.append(raster)"
   ]
  },
  {
   "cell_type": "code",
   "execution_count": 139,
   "metadata": {},
   "outputs": [
    {
     "name": "stdout",
     "output_type": "stream",
     "text": [
      "(86874, 9)\n"
     ]
    },
    {
     "data": {
      "text/html": [
       "<div>\n",
       "<style scoped>\n",
       "    .dataframe tbody tr th:only-of-type {\n",
       "        vertical-align: middle;\n",
       "    }\n",
       "\n",
       "    .dataframe tbody tr th {\n",
       "        vertical-align: top;\n",
       "    }\n",
       "\n",
       "    .dataframe thead th {\n",
       "        text-align: right;\n",
       "    }\n",
       "</style>\n",
       "<table border=\"1\" class=\"dataframe\">\n",
       "  <thead>\n",
       "    <tr style=\"text-align: right;\">\n",
       "      <th></th>\n",
       "      <th>geometry</th>\n",
       "      <th>2016-12-03</th>\n",
       "      <th>2016-12-04</th>\n",
       "      <th>2016-12-05</th>\n",
       "      <th>2016-12-06</th>\n",
       "      <th>2016-12-07</th>\n",
       "      <th>2016-12-08</th>\n",
       "      <th>2016-12-09</th>\n",
       "      <th>2016-12-10</th>\n",
       "    </tr>\n",
       "  </thead>\n",
       "  <tbody>\n",
       "    <tr>\n",
       "      <th>0</th>\n",
       "      <td>POINT (-83.32500 16.02500)</td>\n",
       "      <td>3.575851</td>\n",
       "      <td>0.0</td>\n",
       "      <td>0.0</td>\n",
       "      <td>0.000000</td>\n",
       "      <td>0.0</td>\n",
       "      <td>0.0</td>\n",
       "      <td>0.0</td>\n",
       "      <td>0.0</td>\n",
       "    </tr>\n",
       "    <tr>\n",
       "      <th>1</th>\n",
       "      <td>POINT (-84.90417 15.90833)</td>\n",
       "      <td>0.000000</td>\n",
       "      <td>0.0</td>\n",
       "      <td>0.0</td>\n",
       "      <td>0.000000</td>\n",
       "      <td>0.0</td>\n",
       "      <td>0.0</td>\n",
       "      <td>0.0</td>\n",
       "      <td>0.0</td>\n",
       "    </tr>\n",
       "    <tr>\n",
       "      <th>2</th>\n",
       "      <td>POINT (-84.77500 15.87500)</td>\n",
       "      <td>29.857899</td>\n",
       "      <td>0.0</td>\n",
       "      <td>0.0</td>\n",
       "      <td>26.657270</td>\n",
       "      <td>0.0</td>\n",
       "      <td>0.0</td>\n",
       "      <td>0.0</td>\n",
       "      <td>0.0</td>\n",
       "    </tr>\n",
       "    <tr>\n",
       "      <th>3</th>\n",
       "      <td>POINT (-84.72500 15.87500)</td>\n",
       "      <td>31.586699</td>\n",
       "      <td>0.0</td>\n",
       "      <td>0.0</td>\n",
       "      <td>27.568253</td>\n",
       "      <td>0.0</td>\n",
       "      <td>0.0</td>\n",
       "      <td>0.0</td>\n",
       "      <td>0.0</td>\n",
       "    </tr>\n",
       "    <tr>\n",
       "      <th>4</th>\n",
       "      <td>POINT (-84.67500 15.87500)</td>\n",
       "      <td>25.088631</td>\n",
       "      <td>0.0</td>\n",
       "      <td>0.0</td>\n",
       "      <td>0.000000</td>\n",
       "      <td>0.0</td>\n",
       "      <td>0.0</td>\n",
       "      <td>0.0</td>\n",
       "      <td>0.0</td>\n",
       "    </tr>\n",
       "  </tbody>\n",
       "</table>\n",
       "</div>"
      ],
      "text/plain": [
       "                     geometry  2016-12-03  2016-12-04  2016-12-05  2016-12-06  \\\n",
       "0  POINT (-83.32500 16.02500)    3.575851         0.0         0.0    0.000000   \n",
       "1  POINT (-84.90417 15.90833)    0.000000         0.0         0.0    0.000000   \n",
       "2  POINT (-84.77500 15.87500)   29.857899         0.0         0.0   26.657270   \n",
       "3  POINT (-84.72500 15.87500)   31.586699         0.0         0.0   27.568253   \n",
       "4  POINT (-84.67500 15.87500)   25.088631         0.0         0.0    0.000000   \n",
       "\n",
       "   2016-12-07  2016-12-08  2016-12-09  2016-12-10  \n",
       "0         0.0         0.0         0.0         0.0  \n",
       "1         0.0         0.0         0.0         0.0  \n",
       "2         0.0         0.0         0.0         0.0  \n",
       "3         0.0         0.0         0.0         0.0  \n",
       "4         0.0         0.0         0.0         0.0  "
      ]
     },
     "execution_count": 139,
     "metadata": {},
     "output_type": "execute_result"
    }
   ],
   "source": [
    "precipitaciones = reduce(lambda left, right: pd.merge(left, right, on='geometry', how='outer'), rasters)\n",
    "print(precipitaciones.shape)\n",
    "precipitaciones.fillna(0, inplace=True)\n",
    "precipitaciones.head()"
   ]
  },
  {
   "cell_type": "markdown",
   "metadata": {},
   "source": [
    "## Agregar códigos de municipios y departamentos"
   ]
  },
  {
   "cell_type": "code",
   "execution_count": 140,
   "metadata": {},
   "outputs": [
    {
     "name": "stdout",
     "output_type": "stream",
     "text": [
      "(1122, 3)\n"
     ]
    },
    {
     "data": {
      "text/html": [
       "<div>\n",
       "<style scoped>\n",
       "    .dataframe tbody tr th:only-of-type {\n",
       "        vertical-align: middle;\n",
       "    }\n",
       "\n",
       "    .dataframe tbody tr th {\n",
       "        vertical-align: top;\n",
       "    }\n",
       "\n",
       "    .dataframe thead th {\n",
       "        text-align: right;\n",
       "    }\n",
       "</style>\n",
       "<table border=\"1\" class=\"dataframe\">\n",
       "  <thead>\n",
       "    <tr style=\"text-align: right;\">\n",
       "      <th></th>\n",
       "      <th>DPTO_CCDGO</th>\n",
       "      <th>MPIO_CCDGO</th>\n",
       "      <th>geometry</th>\n",
       "    </tr>\n",
       "  </thead>\n",
       "  <tbody>\n",
       "    <tr>\n",
       "      <th>0</th>\n",
       "      <td>18</td>\n",
       "      <td>001</td>\n",
       "      <td>POLYGON ((-75.40406 1.76950, -75.42726 1.75705...</td>\n",
       "    </tr>\n",
       "    <tr>\n",
       "      <th>1</th>\n",
       "      <td>18</td>\n",
       "      <td>029</td>\n",
       "      <td>POLYGON ((-75.75674 1.18908, -75.76613 1.18638...</td>\n",
       "    </tr>\n",
       "    <tr>\n",
       "      <th>2</th>\n",
       "      <td>18</td>\n",
       "      <td>094</td>\n",
       "      <td>POLYGON ((-75.77891 1.58257, -75.80857 1.53385...</td>\n",
       "    </tr>\n",
       "    <tr>\n",
       "      <th>3</th>\n",
       "      <td>18</td>\n",
       "      <td>247</td>\n",
       "      <td>POLYGON ((-75.34871 2.32353, -75.34474 2.31903...</td>\n",
       "    </tr>\n",
       "    <tr>\n",
       "      <th>4</th>\n",
       "      <td>18</td>\n",
       "      <td>256</td>\n",
       "      <td>POLYGON ((-74.96432 1.44361, -74.96652 1.44076...</td>\n",
       "    </tr>\n",
       "  </tbody>\n",
       "</table>\n",
       "</div>"
      ],
      "text/plain": [
       "  DPTO_CCDGO MPIO_CCDGO                                           geometry\n",
       "0         18        001  POLYGON ((-75.40406 1.76950, -75.42726 1.75705...\n",
       "1         18        029  POLYGON ((-75.75674 1.18908, -75.76613 1.18638...\n",
       "2         18        094  POLYGON ((-75.77891 1.58257, -75.80857 1.53385...\n",
       "3         18        247  POLYGON ((-75.34871 2.32353, -75.34474 2.31903...\n",
       "4         18        256  POLYGON ((-74.96432 1.44361, -74.96652 1.44076..."
      ]
     },
     "execution_count": 140,
     "metadata": {},
     "output_type": "execute_result"
    }
   ],
   "source": [
    "municipios = gp.read_file('MGN_ANM_MPIOS.geojson')\n",
    "municipios = municipios[['DPTO_CCDGO', 'MPIO_CCDGO', 'geometry']]\n",
    "print(municipios.shape)\n",
    "municipios.head()"
   ]
  },
  {
   "cell_type": "code",
   "execution_count": 144,
   "metadata": {},
   "outputs": [
    {
     "name": "stdout",
     "output_type": "stream",
     "text": [
      "(35479, 11)\n"
     ]
    },
    {
     "data": {
      "text/html": [
       "<div>\n",
       "<style scoped>\n",
       "    .dataframe tbody tr th:only-of-type {\n",
       "        vertical-align: middle;\n",
       "    }\n",
       "\n",
       "    .dataframe tbody tr th {\n",
       "        vertical-align: top;\n",
       "    }\n",
       "\n",
       "    .dataframe thead th {\n",
       "        text-align: right;\n",
       "    }\n",
       "</style>\n",
       "<table border=\"1\" class=\"dataframe\">\n",
       "  <thead>\n",
       "    <tr style=\"text-align: right;\">\n",
       "      <th></th>\n",
       "      <th>geometry</th>\n",
       "      <th>2016-12-03</th>\n",
       "      <th>2016-12-04</th>\n",
       "      <th>2016-12-05</th>\n",
       "      <th>2016-12-06</th>\n",
       "      <th>2016-12-07</th>\n",
       "      <th>2016-12-08</th>\n",
       "      <th>2016-12-09</th>\n",
       "      <th>2016-12-10</th>\n",
       "      <th>DPTO_CCDGO</th>\n",
       "      <th>MPIO_CCDGO</th>\n",
       "    </tr>\n",
       "  </thead>\n",
       "  <tbody>\n",
       "    <tr>\n",
       "      <th>194</th>\n",
       "      <td>POINT (-72.72500 11.67500)</td>\n",
       "      <td>7.668361</td>\n",
       "      <td>4.612562</td>\n",
       "      <td>0.0</td>\n",
       "      <td>0.0</td>\n",
       "      <td>0.0</td>\n",
       "      <td>0.0</td>\n",
       "      <td>0.000000</td>\n",
       "      <td>0.0</td>\n",
       "      <td>44</td>\n",
       "      <td>560</td>\n",
       "    </tr>\n",
       "    <tr>\n",
       "      <th>195</th>\n",
       "      <td>POINT (-72.67500 11.67500)</td>\n",
       "      <td>8.740595</td>\n",
       "      <td>0.000000</td>\n",
       "      <td>0.0</td>\n",
       "      <td>0.0</td>\n",
       "      <td>0.0</td>\n",
       "      <td>0.0</td>\n",
       "      <td>3.987114</td>\n",
       "      <td>0.0</td>\n",
       "      <td>44</td>\n",
       "      <td>560</td>\n",
       "    </tr>\n",
       "    <tr>\n",
       "      <th>196</th>\n",
       "      <td>POINT (-72.17500 11.67500)</td>\n",
       "      <td>11.863071</td>\n",
       "      <td>0.000000</td>\n",
       "      <td>0.0</td>\n",
       "      <td>0.0</td>\n",
       "      <td>0.0</td>\n",
       "      <td>0.0</td>\n",
       "      <td>0.000000</td>\n",
       "      <td>0.0</td>\n",
       "      <td>44</td>\n",
       "      <td>847</td>\n",
       "    </tr>\n",
       "    <tr>\n",
       "      <th>198</th>\n",
       "      <td>POINT (-72.82500 11.62500)</td>\n",
       "      <td>0.000000</td>\n",
       "      <td>0.000000</td>\n",
       "      <td>0.0</td>\n",
       "      <td>0.0</td>\n",
       "      <td>0.0</td>\n",
       "      <td>0.0</td>\n",
       "      <td>0.000000</td>\n",
       "      <td>0.0</td>\n",
       "      <td>44</td>\n",
       "      <td>560</td>\n",
       "    </tr>\n",
       "    <tr>\n",
       "      <th>199</th>\n",
       "      <td>POINT (-72.77500 11.62500)</td>\n",
       "      <td>9.771236</td>\n",
       "      <td>0.000000</td>\n",
       "      <td>0.0</td>\n",
       "      <td>0.0</td>\n",
       "      <td>0.0</td>\n",
       "      <td>0.0</td>\n",
       "      <td>0.000000</td>\n",
       "      <td>0.0</td>\n",
       "      <td>44</td>\n",
       "      <td>560</td>\n",
       "    </tr>\n",
       "  </tbody>\n",
       "</table>\n",
       "</div>"
      ],
      "text/plain": [
       "                       geometry  2016-12-03  2016-12-04  2016-12-05  \\\n",
       "194  POINT (-72.72500 11.67500)    7.668361    4.612562         0.0   \n",
       "195  POINT (-72.67500 11.67500)    8.740595    0.000000         0.0   \n",
       "196  POINT (-72.17500 11.67500)   11.863071    0.000000         0.0   \n",
       "198  POINT (-72.82500 11.62500)    0.000000    0.000000         0.0   \n",
       "199  POINT (-72.77500 11.62500)    9.771236    0.000000         0.0   \n",
       "\n",
       "     2016-12-06  2016-12-07  2016-12-08  2016-12-09  2016-12-10 DPTO_CCDGO  \\\n",
       "194         0.0         0.0         0.0    0.000000         0.0         44   \n",
       "195         0.0         0.0         0.0    3.987114         0.0         44   \n",
       "196         0.0         0.0         0.0    0.000000         0.0         44   \n",
       "198         0.0         0.0         0.0    0.000000         0.0         44   \n",
       "199         0.0         0.0         0.0    0.000000         0.0         44   \n",
       "\n",
       "    MPIO_CCDGO  \n",
       "194        560  \n",
       "195        560  \n",
       "196        847  \n",
       "198        560  \n",
       "199        560  "
      ]
     },
     "execution_count": 144,
     "metadata": {},
     "output_type": "execute_result"
    }
   ],
   "source": [
    "rain = gp.sjoin(precipitaciones, municipios, how='left', predicate='intersects')\n",
    "rain = rain[rain['index_right'].notna()]\n",
    "rain = rain.drop(columns=['index_right'])\n",
    "print(rain.shape)\n",
    "rain.head()"
   ]
  },
  {
   "cell_type": "code",
   "execution_count": 145,
   "metadata": {},
   "outputs": [],
   "source": [
    "plt.rcParams['figure.figsize'] = [12, 12]"
   ]
  },
  {
   "cell_type": "code",
   "execution_count": 146,
   "metadata": {},
   "outputs": [
    {
     "data": {
      "text/plain": [
       "<AxesSubplot:>"
      ]
     },
     "execution_count": 146,
     "metadata": {},
     "output_type": "execute_result"
    },
    {
     "data": {
      "image/png": "[encoded data removed]",
      "text/plain": [
       "<Figure size 864x864 with 1 Axes>"
      ]
     },
     "metadata": {
      "needs_background": "light"
     },
     "output_type": "display_data"
    }
   ],
   "source": [
    "rain[rain.DPTO_CCDGO == '91'].plot()"
   ]
  },
  {
   "cell_type": "markdown",
   "metadata": {},
   "source": [
    "## Exportar datos en formato GeoJSON"
   ]
  },
  {
   "cell_type": "code",
   "execution_count": 147,
   "metadata": {},
   "outputs": [
    {
     "data": {
      "text/html": [
       "<div>\n",
       "<style scoped>\n",
       "    .dataframe tbody tr th:only-of-type {\n",
       "        vertical-align: middle;\n",
       "    }\n",
       "\n",
       "    .dataframe tbody tr th {\n",
       "        vertical-align: top;\n",
       "    }\n",
       "\n",
       "    .dataframe thead th {\n",
       "        text-align: right;\n",
       "    }\n",
       "</style>\n",
       "<table border=\"1\" class=\"dataframe\">\n",
       "  <thead>\n",
       "    <tr style=\"text-align: right;\">\n",
       "      <th></th>\n",
       "      <th>geometry</th>\n",
       "      <th>DPTO_CCDGO</th>\n",
       "      <th>MPIO_CCDGO</th>\n",
       "      <th>precipitation</th>\n",
       "    </tr>\n",
       "  </thead>\n",
       "  <tbody>\n",
       "    <tr>\n",
       "      <th>194</th>\n",
       "      <td>POINT (-72.72500 11.67500)</td>\n",
       "      <td>44</td>\n",
       "      <td>560</td>\n",
       "      <td>{'2016-12-03': 7.668360710144043, '2016-12-04'...</td>\n",
       "    </tr>\n",
       "    <tr>\n",
       "      <th>195</th>\n",
       "      <td>POINT (-72.67500 11.67500)</td>\n",
       "      <td>44</td>\n",
       "      <td>560</td>\n",
       "      <td>{'2016-12-03': 8.740594863891602, '2016-12-04'...</td>\n",
       "    </tr>\n",
       "    <tr>\n",
       "      <th>196</th>\n",
       "      <td>POINT (-72.17500 11.67500)</td>\n",
       "      <td>44</td>\n",
       "      <td>847</td>\n",
       "      <td>{'2016-12-03': 11.86307144165039, '2016-12-04'...</td>\n",
       "    </tr>\n",
       "    <tr>\n",
       "      <th>198</th>\n",
       "      <td>POINT (-72.82500 11.62500)</td>\n",
       "      <td>44</td>\n",
       "      <td>560</td>\n",
       "      <td>{'2016-12-03': 0.0, '2016-12-04': 0.0, '2016-1...</td>\n",
       "    </tr>\n",
       "    <tr>\n",
       "      <th>199</th>\n",
       "      <td>POINT (-72.77500 11.62500)</td>\n",
       "      <td>44</td>\n",
       "      <td>560</td>\n",
       "      <td>{'2016-12-03': 9.771236419677734, '2016-12-04'...</td>\n",
       "    </tr>\n",
       "  </tbody>\n",
       "</table>\n",
       "</div>"
      ],
      "text/plain": [
       "                       geometry DPTO_CCDGO MPIO_CCDGO  \\\n",
       "194  POINT (-72.72500 11.67500)         44        560   \n",
       "195  POINT (-72.67500 11.67500)         44        560   \n",
       "196  POINT (-72.17500 11.67500)         44        847   \n",
       "198  POINT (-72.82500 11.62500)         44        560   \n",
       "199  POINT (-72.77500 11.62500)         44        560   \n",
       "\n",
       "                                         precipitation  \n",
       "194  {'2016-12-03': 7.668360710144043, '2016-12-04'...  \n",
       "195  {'2016-12-03': 8.740594863891602, '2016-12-04'...  \n",
       "196  {'2016-12-03': 11.86307144165039, '2016-12-04'...  \n",
       "198  {'2016-12-03': 0.0, '2016-12-04': 0.0, '2016-1...  \n",
       "199  {'2016-12-03': 9.771236419677734, '2016-12-04'...  "
      ]
     },
     "execution_count": 147,
     "metadata": {},
     "output_type": "execute_result"
    }
   ],
   "source": [
    "export_rain = GeoDataFrame(rain[['geometry', 'DPTO_CCDGO', 'MPIO_CCDGO']])\n",
    "# Agrupar todas las precipitaciones por fecha en un solo campo\n",
    "export_rain['precipitation'] = rain.drop(columns=['geometry', 'DPTO_CCDGO', 'MPIO_CCDGO']).to_dict('records')\n",
    "# Exportar a GeoJSON\n",
    "export_rain.to_file('precipitaciones.geojson', driver='GeoJSON')\n",
    "export_rain.head()"
   ]
  },
  {
   "cell_type": "markdown",
   "metadata": {},
   "source": [
    "# Deslizamientos"
   ]
  },
  {
   "cell_type": "code",
   "execution_count": 148,
   "metadata": {},
   "outputs": [
    {
     "name": "stdout",
     "output_type": "stream",
     "text": [
      "(1974, 7)\n"
     ]
    },
    {
     "name": "stderr",
     "output_type": "stream",
     "text": [
      "c:\\Users\\Usuario\\AppData\\Local\\Programs\\Python\\Python310\\lib\\site-packages\\pandas\\core\\dtypes\\cast.py:122: ShapelyDeprecationWarning: The array interface is deprecated and will no longer work in Shapely 2.0. Convert the '.coords' to a numpy array instead.\n",
      "  arr = construct_1d_object_array_from_listlike(values)\n"
     ]
    }
   ],
   "source": [
    "deslizamientos = gp.read_file('INVENTARIO_FINAL_MM.csv')\n",
    "deslizamientos.columns = ['movimiento', 'fecha', 'municipio', 'latitud', 'longitud', 'fuente', 'geometry']\n",
    "deslizamientos.geometry = deslizamientos.apply(lambda row: Point(float(row['longitud']), float(row['latitud'])), axis=1)\n",
    "print(deslizamientos.shape)"
   ]
  },
  {
   "cell_type": "code",
   "execution_count": 149,
   "metadata": {},
   "outputs": [
    {
     "name": "stdout",
     "output_type": "stream",
     "text": [
      "(1974, 4)\n"
     ]
    }
   ],
   "source": [
    "deslizamientos = deslizamientos[['geometry', 'movimiento', 'fecha', 'fuente']]\n",
    "deslizamientos.fecha = pd.to_datetime(deslizamientos.fecha, format='%d/%m/%Y')\n",
    "deslizamientos.set_crs(epsg=4326, inplace=True)\n",
    "print(deslizamientos.shape)"
   ]
  },
  {
   "cell_type": "code",
   "execution_count": 150,
   "metadata": {},
   "outputs": [
    {
     "name": "stdout",
     "output_type": "stream",
     "text": [
      "(833, 4)\n"
     ]
    },
    {
     "data": {
      "text/html": [
       "<div>\n",
       "<style scoped>\n",
       "    .dataframe tbody tr th:only-of-type {\n",
       "        vertical-align: middle;\n",
       "    }\n",
       "\n",
       "    .dataframe tbody tr th {\n",
       "        vertical-align: top;\n",
       "    }\n",
       "\n",
       "    .dataframe thead th {\n",
       "        text-align: right;\n",
       "    }\n",
       "</style>\n",
       "<table border=\"1\" class=\"dataframe\">\n",
       "  <thead>\n",
       "    <tr style=\"text-align: right;\">\n",
       "      <th></th>\n",
       "      <th>geometry</th>\n",
       "      <th>movimiento</th>\n",
       "      <th>fecha</th>\n",
       "      <th>fuente</th>\n",
       "    </tr>\n",
       "  </thead>\n",
       "  <tbody>\n",
       "    <tr>\n",
       "      <th>0</th>\n",
       "      <td>POINT (-73.58200 5.07500)</td>\n",
       "      <td>Caida</td>\n",
       "      <td>2022-02-01</td>\n",
       "      <td>Catalogo SIMMA</td>\n",
       "    </tr>\n",
       "    <tr>\n",
       "      <th>1</th>\n",
       "      <td>POINT (-73.58400 5.07500)</td>\n",
       "      <td>Deslizamiento</td>\n",
       "      <td>2022-02-01</td>\n",
       "      <td>Catalogo SIMMA</td>\n",
       "    </tr>\n",
       "    <tr>\n",
       "      <th>2</th>\n",
       "      <td>POINT (-74.38300 4.36800)</td>\n",
       "      <td>Caida</td>\n",
       "      <td>2022-02-01</td>\n",
       "      <td>Catalogo SIMMA</td>\n",
       "    </tr>\n",
       "    <tr>\n",
       "      <th>3</th>\n",
       "      <td>POINT (-74.30285 4.90856)</td>\n",
       "      <td>Caida</td>\n",
       "      <td>2022-02-01</td>\n",
       "      <td>Catalogo SIMMA</td>\n",
       "    </tr>\n",
       "    <tr>\n",
       "      <th>4</th>\n",
       "      <td>POINT (-73.62800 5.08700)</td>\n",
       "      <td>Deslizamiento</td>\n",
       "      <td>2022-02-01</td>\n",
       "      <td>Catalogo SIMMA</td>\n",
       "    </tr>\n",
       "  </tbody>\n",
       "</table>\n",
       "</div>"
      ],
      "text/plain": [
       "                    geometry     movimiento      fecha          fuente\n",
       "0  POINT (-73.58200 5.07500)          Caida 2022-02-01  Catalogo SIMMA\n",
       "1  POINT (-73.58400 5.07500)  Deslizamiento 2022-02-01  Catalogo SIMMA\n",
       "2  POINT (-74.38300 4.36800)          Caida 2022-02-01  Catalogo SIMMA\n",
       "3  POINT (-74.30285 4.90856)          Caida 2022-02-01  Catalogo SIMMA\n",
       "4  POINT (-73.62800 5.08700)  Deslizamiento 2022-02-01  Catalogo SIMMA"
      ]
     },
     "execution_count": 150,
     "metadata": {},
     "output_type": "execute_result"
    }
   ],
   "source": [
    "deslizamientos = deslizamientos[deslizamientos.fecha >= '2010-01-01']\n",
    "print(deslizamientos.shape)\n",
    "deslizamientos.head()"
   ]
  },
  {
   "cell_type": "code",
   "execution_count": 151,
   "metadata": {},
   "outputs": [
    {
     "data": {
      "text/plain": [
       "<AxesSubplot:>"
      ]
     },
     "execution_count": 151,
     "metadata": {},
     "output_type": "execute_result"
    },
    {
     "data": {
      "image/png": "[encoded data removed]",
      "text/plain": [
       "<Figure size 864x864 with 1 Axes>"
      ]
     },
     "metadata": {
      "needs_background": "light"
     },
     "output_type": "display_data"
    }
   ],
   "source": [
    "deslizamientos.geometry.plot()"
   ]
  },
  {
   "cell_type": "code",
   "execution_count": 152,
   "metadata": {},
   "outputs": [
    {
     "name": "stdout",
     "output_type": "stream",
     "text": [
      "(833, 6)\n"
     ]
    },
    {
     "data": {
      "text/html": [
       "<div>\n",
       "<style scoped>\n",
       "    .dataframe tbody tr th:only-of-type {\n",
       "        vertical-align: middle;\n",
       "    }\n",
       "\n",
       "    .dataframe tbody tr th {\n",
       "        vertical-align: top;\n",
       "    }\n",
       "\n",
       "    .dataframe thead th {\n",
       "        text-align: right;\n",
       "    }\n",
       "</style>\n",
       "<table border=\"1\" class=\"dataframe\">\n",
       "  <thead>\n",
       "    <tr style=\"text-align: right;\">\n",
       "      <th></th>\n",
       "      <th>geometry</th>\n",
       "      <th>movimiento</th>\n",
       "      <th>fecha</th>\n",
       "      <th>fuente</th>\n",
       "      <th>DPTO_CCDGO</th>\n",
       "      <th>MPIO_CCDGO</th>\n",
       "    </tr>\n",
       "  </thead>\n",
       "  <tbody>\n",
       "    <tr>\n",
       "      <th>0</th>\n",
       "      <td>POINT (-73.58200 5.07500)</td>\n",
       "      <td>Caida</td>\n",
       "      <td>2022-02-01</td>\n",
       "      <td>Catalogo SIMMA</td>\n",
       "      <td>25</td>\n",
       "      <td>426</td>\n",
       "    </tr>\n",
       "    <tr>\n",
       "      <th>1</th>\n",
       "      <td>POINT (-73.58400 5.07500)</td>\n",
       "      <td>Deslizamiento</td>\n",
       "      <td>2022-02-01</td>\n",
       "      <td>Catalogo SIMMA</td>\n",
       "      <td>25</td>\n",
       "      <td>426</td>\n",
       "    </tr>\n",
       "    <tr>\n",
       "      <th>2</th>\n",
       "      <td>POINT (-74.38300 4.36800)</td>\n",
       "      <td>Caida</td>\n",
       "      <td>2022-02-01</td>\n",
       "      <td>Catalogo SIMMA</td>\n",
       "      <td>25</td>\n",
       "      <td>290</td>\n",
       "    </tr>\n",
       "    <tr>\n",
       "      <th>3</th>\n",
       "      <td>POINT (-74.30285 4.90856)</td>\n",
       "      <td>Caida</td>\n",
       "      <td>2022-02-01</td>\n",
       "      <td>Catalogo SIMMA</td>\n",
       "      <td>25</td>\n",
       "      <td>402</td>\n",
       "    </tr>\n",
       "    <tr>\n",
       "      <th>4</th>\n",
       "      <td>POINT (-73.62800 5.08700)</td>\n",
       "      <td>Deslizamiento</td>\n",
       "      <td>2022-02-01</td>\n",
       "      <td>Catalogo SIMMA</td>\n",
       "      <td>25</td>\n",
       "      <td>426</td>\n",
       "    </tr>\n",
       "  </tbody>\n",
       "</table>\n",
       "</div>"
      ],
      "text/plain": [
       "                    geometry     movimiento      fecha          fuente  \\\n",
       "0  POINT (-73.58200 5.07500)          Caida 2022-02-01  Catalogo SIMMA   \n",
       "1  POINT (-73.58400 5.07500)  Deslizamiento 2022-02-01  Catalogo SIMMA   \n",
       "2  POINT (-74.38300 4.36800)          Caida 2022-02-01  Catalogo SIMMA   \n",
       "3  POINT (-74.30285 4.90856)          Caida 2022-02-01  Catalogo SIMMA   \n",
       "4  POINT (-73.62800 5.08700)  Deslizamiento 2022-02-01  Catalogo SIMMA   \n",
       "\n",
       "  DPTO_CCDGO MPIO_CCDGO  \n",
       "0         25        426  \n",
       "1         25        426  \n",
       "2         25        290  \n",
       "3         25        402  \n",
       "4         25        426  "
      ]
     },
     "execution_count": 152,
     "metadata": {},
     "output_type": "execute_result"
    }
   ],
   "source": [
    "# Obtener los municipios que contienen deslizamientos\n",
    "geodata = gp.sjoin(deslizamientos, municipios, how='left', predicate='intersects')\n",
    "geodata = geodata[geodata['index_right'].notna()]\n",
    "geodata = geodata.drop(columns=['index_right'])\n",
    "print(geodata.shape)\n",
    "\n",
    "# Exportar a GeoJSON\n",
    "geodata.to_file('deslizamientos.geojson', driver='GeoJSON')\n",
    "geodata.head()"
   ]
  }
 ],
 "metadata": {
  "kernelspec": {
   "display_name": "Python 3.10.5 64-bit",
   "language": "python",
   "name": "python3"
  },
  "language_info": {
   "codemirror_mode": {
    "name": "ipython",
    "version": 3
   },
   "file_extension": ".py",
   "mimetype": "text/x-python",
   "name": "python",
   "nbconvert_exporter": "python",
   "pygments_lexer": "ipython3",
   "version": "3.10.5"
  },
  "orig_nbformat": 4,
  "vscode": {
   "interpreter": {
    "hash": "c63d8c7d738c2960218a10995aedf0a7f67a49a231e71037adf0440953cdb45b"
   }
  }
 },
 "nbformat": 4,
 "nbformat_minor": 2
}
